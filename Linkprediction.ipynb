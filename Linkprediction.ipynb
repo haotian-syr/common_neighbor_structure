{
 "cells": [
  {
   "cell_type": "code",
   "execution_count": 1,
   "metadata": {},
   "outputs": [],
   "source": [
    "import networkx as nx\n",
    "import random as rdm\n",
    "import numpy as np\n",
    "import math\n",
    "from sklearn.metrics import roc_curve, auc\n",
    "from sklearn.metrics import roc_auc_score\n",
    "from random import choice\n",
    "from random import seed\n",
    "from random import sample\n",
    "\n",
    "# Utilities\n",
    "import matplotlib\n",
    "matplotlib.use('Agg')\n",
    "import matplotlib.pyplot as plt\n",
    "%matplotlib inline\n",
    "from tikzplotlib import save as tikz_save\n",
    "from tikzplotlib import get_tikz_code "
   ]
  },
  {
   "cell_type": "code",
   "execution_count": 18,
   "metadata": {},
   "outputs": [],
   "source": [
    "# enumerate small graphs based on edges\n",
    "# 1 vertices\n",
    "G_1_0 = nx.Graph()\n",
    "G_1_0.add_nodes_from([1])\n",
    "\n",
    "# 2 vertices\n",
    "G_2_0 = nx.Graph()\n",
    "G_2_0.add_nodes_from([1,2])\n",
    "G_2_1 = nx.complement(G_2_0)\n",
    "G_2 = [G_2_0, G_2_1]\n",
    "G_2_edgeindex = [0, 1]\n",
    "\n",
    "# 3 vertices\n",
    "G_3_0 = nx.Graph()\n",
    "G_3_0.add_nodes_from([1,2,3])\n",
    "G_3_1 = nx.Graph()\n",
    "G_3_1.add_nodes_from([1,2,3])\n",
    "G_3_1.add_edge(1,2)\n",
    "G_3_2 = nx.complement(G_3_1)\n",
    "G_3_3 = nx.complement(G_3_0)\n",
    "G_3 = [G_3_0, G_3_1, G_3_2, G_3_3]\n",
    "G_3_edgeindex = [0, 1, 2, 3]\n",
    "\n",
    "# 4 vertices\n",
    "G_4_0 = nx.Graph()\n",
    "G_4_0.add_nodes_from([1,2,3,4])\n",
    "G_4_1 = nx.Graph()\n",
    "G_4_1.add_nodes_from([1,2,3,4])\n",
    "G_4_1.add_edge(1,2)\n",
    "G_4_2 = nx.Graph()\n",
    "G_4_2.add_nodes_from([1,2,3,4])\n",
    "G_4_2.add_edges_from([(1,2), (2,3)])\n",
    "G_4_3 = nx.Graph()\n",
    "G_4_3.add_nodes_from([1,2,3,4])\n",
    "G_4_3.add_edges_from([(1,2), (3,4)])\n",
    "G_4_4 = nx.Graph()\n",
    "G_4_4.add_edges_from([(1,2), (1,3), (1,4)])\n",
    "G_4_5 = nx.Graph()\n",
    "G_4_5.add_edges_from([(1,2), (2,3), (3,4)])\n",
    "G_4_6 = nx.complement(G_4_4)\n",
    "G_4_7 = nx.complement(G_4_3)\n",
    "G_4_8 = nx.complement(G_4_2)\n",
    "G_4_9 = nx.complement(G_4_1)\n",
    "G_4_10 = nx.complement(G_4_0)\n",
    "G_4 = [G_4_0, G_4_1, G_4_2, G_4_3, G_4_4, G_4_5, G_4_6, G_4_7, G_4_8, G_4_9, G_4_10]\n",
    "G_4_edgeindex = [0, 1, 2, 4, 7, 9, 10]\n",
    "\n",
    "# 5 vertices\n",
    "G_5_0 = nx.Graph()\n",
    "G_5_0.add_nodes_from([1,2,3,4,5])\n",
    "G_5_1 = nx.Graph()\n",
    "G_5_1.add_nodes_from([1,2,3,4,5])\n",
    "G_5_1.add_edge(1,2)\n",
    "G_5_2 = nx.Graph()\n",
    "G_5_2.add_nodes_from([1,2,3,4,5])\n",
    "G_5_2.add_edges_from([(1,2), (2,3)])\n",
    "G_5_3 = nx.Graph()\n",
    "G_5_3.add_nodes_from([1,2,3,4,5])\n",
    "G_5_3.add_edges_from([(1,2), (3,4)])\n",
    "G_5_4 = nx.Graph()\n",
    "G_5_4.add_nodes_from([1,2,3,4,5])\n",
    "G_5_4.add_edges_from([(1,2), (1,3), (1,4)])\n",
    "G_5_5 = nx.Graph()\n",
    "G_5_5.add_nodes_from([1,2,3,4,5])\n",
    "G_5_5.add_edges_from([(1,2), (2,3), (4,5)])\n",
    "G_5_6 = nx.Graph()\n",
    "G_5_6.add_nodes_from([1,2,3,4,5])\n",
    "G_5_6.add_edges_from([(1,2), (2,3), (3,4)])\n",
    "G_5_7 = nx.Graph()\n",
    "G_5_7.add_nodes_from([1,2,3,4,5])\n",
    "G_5_7.add_edges_from([(1,2), (2,3), (3,1)])\n",
    "G_5_8 = nx.Graph()\n",
    "G_5_8.add_edges_from([(1,2), (1,3), (1,4), (1,5)])\n",
    "G_5_9 = nx.Graph()\n",
    "G_5_9.add_nodes_from([1,2,3,4,5])\n",
    "G_5_9.add_edges_from([(1,2), (2,3), (3,4), (4,1)])\n",
    "G_5_10 = nx.Graph()\n",
    "G_5_10.add_edges_from([(1,2), (1,3), (1,4), (4,5)])\n",
    "G_5_11 = nx.Graph()\n",
    "G_5_11.add_nodes_from([1,2,3,4,5])\n",
    "G_5_11.add_edges_from([(1,2), (1,3), (1,4), (3,4)])\n",
    "G_5_12 = nx.Graph()\n",
    "G_5_12.add_edges_from([(1,2), (2,3), (3,4), (4,5)])\n",
    "G_5_13 = nx.Graph()\n",
    "G_5_13.add_edges_from([(1,2), (2,3), (3,1), (4,5)])\n",
    "G_5_14 = nx.Graph()\n",
    "G_5_14.add_edges_from([(1,2), (2,3), (3,4), (4,1), (1,5)])\n",
    "G_5_15 = nx.Graph()\n",
    "G_5_15.add_edges_from([(1,2), (2,3), (3,1), (4,1), (3,5)])\n",
    "G_5_16 = nx.Graph()\n",
    "G_5_16.add_edges_from([(1,2), (2,3), (3,1), (4,1), (1,5)])\n",
    "G_5_17 = nx.Graph()\n",
    "G_5_17.add_edges_from([(1,2), (2,3), (3,4), (4,5), (1,5)])\n",
    "G_5_18 = nx.complement(G_5_16)\n",
    "G_5_19 = nx.complement(G_5_14)\n",
    "G_5_20 = nx.complement(G_5_13)\n",
    "G_5_21 = nx.complement(G_5_12)\n",
    "G_5_22 = nx.complement(G_5_11)\n",
    "G_5_23 = nx.complement(G_5_10)\n",
    "G_5_24 = nx.complement(G_5_9)\n",
    "G_5_25 = nx.complement(G_5_8)\n",
    "G_5_26 = nx.complement(G_5_7)\n",
    "G_5_27 = nx.complement(G_5_6)\n",
    "G_5_28 = nx.complement(G_5_5)\n",
    "G_5_29 = nx.complement(G_5_4)\n",
    "G_5_30 = nx.complement(G_5_3)\n",
    "G_5_31 = nx.complement(G_5_2)\n",
    "G_5_32 = nx.complement(G_5_1)\n",
    "G_5_33 = nx.complement(G_5_0)\n",
    "G_5 = [G_5_0, G_5_1, G_5_2, G_5_3, G_5_4, G_5_5, G_5_6, G_5_7, G_5_8, G_5_9, G_5_10,\n",
    "      G_5_11, G_5_12, G_5_13, G_5_14, G_5_15, G_5_16, G_5_17, G_5_18, G_5_19, G_5_20,\n",
    "      G_5_21, G_5_22, G_5_23, G_5_24, G_5_25, G_5_26, G_5_27, G_5_28, G_5_29, G_5_30,\n",
    "      G_5_31, G_5_32, G_5_33]\n",
    "G_5_edgeindex = [0, 1, 2, 4, 8, 14, 20, 26, 30, 32, 33]\n",
    "\n",
    "G_set = [G_1_0] + G_2 + G_3 + G_4"
   ]
  },
  {
   "cell_type": "markdown",
   "metadata": {},
   "source": [
    "LOAD DATA"
   ]
  },
  {
   "cell_type": "code",
   "execution_count": 3,
   "metadata": {},
   "outputs": [],
   "source": [
    "# random walk with restart sampling\n",
    "def random_walk_with_restart_sampling(und_graph, sample_percentage, restart_prob, jump_iteration = 100, sd = None):\n",
    "    # set random seed\n",
    "    seed(sd)\n",
    "    \n",
    "    # sample size round down to interger\n",
    "    sample_size = int(nx.number_of_nodes(und_graph) * sample_percentage)\n",
    "    \n",
    "    # set starting node\n",
    "    startnode = rdm.sample(und_graph.nodes(),1)[0]\n",
    "    currentnode = startnode\n",
    "    \n",
    "    # used for jump when no new node visited in certain iteration\n",
    "    restart_iteration = 0 \n",
    "    last_number_of_nodes = 0\n",
    "    \n",
    "    # result node set and total iteration\n",
    "    nodelist = set()\n",
    "    total_iteration = 0\n",
    "    \n",
    "    while len(nodelist) < sample_size:\n",
    "        # add current node\n",
    "        total_iteration += 1\n",
    "        \n",
    "        \n",
    "        nodelist.add(currentnode)\n",
    "        \n",
    "        # restart with certain prob\n",
    "        x = rdm.random()\n",
    "        if x < restart_prob:\n",
    "            currentnode = startnode\n",
    "        else:    \n",
    "            # move a step forward\n",
    "            nextnode = rdm.sample(list(und_graph[currentnode]),1)[0]\n",
    "            currentnode = nextnode\n",
    "        \n",
    "        # find a new startnode if number of nodes in sample does not grow\n",
    "        if restart_iteration < jump_iteration:\n",
    "            restart_iteration += 1\n",
    "        else:\n",
    "            if last_number_of_nodes == len(nodelist):\n",
    "                startnode = rdm.sample(und_graph.nodes(),1)[0]\n",
    "                currentnode = startnode\n",
    "            restart_iteration = 0\n",
    "            last_number_of_nodes = len(nodelist)\n",
    "    return und_graph.subgraph(nodelist) #,total_iteration"
   ]
  },
  {
   "cell_type": "code",
   "execution_count": 4,
   "metadata": {},
   "outputs": [],
   "source": [
    "# pre-processing\n",
    "def load_data_facebook(path):\n",
    "    initial_edges = []\n",
    "    timed_edges = []\n",
    "    edge_index = {}\n",
    "    with open(path) as f:\n",
    "        lines = f.readlines()\n",
    "        for line in lines:\n",
    "            edge = line.strip().split()\n",
    "            #edge = line.strip().split(',')\n",
    "            if edge[2] == '\\\\N':\n",
    "                initial_edges.append([edge[2], edge[0], edge[1]])\n",
    "                edge_index[(edge[0], edge[1])] = 0\n",
    "                edge_index[(edge[1], edge[0])] = 0\n",
    "            else:\n",
    "                timed_edges.append([edge[2], edge[0], edge[1]])\n",
    "                edge_index[(edge[0], edge[1])] = edge[2]\n",
    "                edge_index[(edge[1], edge[0])] = edge[2]\n",
    "                \n",
    "    sorted_edges = initial_edges + sorted(timed_edges)\n",
    "    \n",
    "    G = nx.Graph()\n",
    "    for e in sorted_edges:\n",
    "        G.add_edge(e[1], e[2])\n",
    "    print(nx.number_of_nodes(G), nx.number_of_edges(G))\n",
    "    G_sub = random_walk_with_restart_sampling(G, 0.0015, 0.15, sd=2)\n",
    "    print(\"subgraph done\")\n",
    "    print(nx.number_of_nodes(G_sub), nx.number_of_edges(G_sub))\n",
    "    \n",
    "    sub_sorted_edges = []\n",
    "    for e in G_sub.edges():\n",
    "        sub_sorted_edges.append([str(edge_index[e]), e[0], e[1]])\n",
    "\n",
    "    return sorted(sub_sorted_edges), G_sub\n",
    "\n",
    "def split_data(sorted_edges, training_precentage):\n",
    "    size = len(sorted_edges)\n",
    "    return sorted_edges[:int(size * training_precentage)], sorted_edges[int(size * training_precentage):]\n",
    "\n",
    "def prepare_graph(train, test):\n",
    "    G_train = nx.Graph()\n",
    "    for e in train:\n",
    "        G_train.add_edge(e[1], e[2])\n",
    "    \n",
    "    G_test = nx.Graph()\n",
    "    for e in test:\n",
    "        if e[1] in G_train.nodes() and e[2] in G_train.nodes():\n",
    "            G_test.add_edge(e[1], e[2])\n",
    "    \n",
    "    return G_train, G_test"
   ]
  },
  {
   "cell_type": "code",
   "execution_count": 5,
   "metadata": {},
   "outputs": [],
   "source": [
    "def load_data_bitcoin(path):\n",
    "    initial_edges = []\n",
    "    timed_edges = []\n",
    "    with open(path) as f:\n",
    "        lines = f.readlines()\n",
    "        for line in lines:\n",
    "            #edge = line.strip().split()\n",
    "            edge = line.strip().split(',')\n",
    "            if edge[2] == '\\\\N':\n",
    "                initial_edges.append([edge[2], edge[0], edge[1]])\n",
    "            else:\n",
    "                timed_edges.append([edge[2], edge[0], edge[1]])\n",
    "                \n",
    "    return initial_edges + sorted(timed_edges)"
   ]
  },
  {
   "cell_type": "code",
   "execution_count": 6,
   "metadata": {},
   "outputs": [],
   "source": [
    "# return neighbors of neighbors of a node\n",
    "def neighbors_neighbor(G, node):\n",
    "    neighbors_neighbor = set()\n",
    "    for n in G[node]:\n",
    "        for nn in G[n]:\n",
    "            neighbors_neighbor.add(nn)\n",
    "    return neighbors_neighbor"
   ]
  },
  {
   "cell_type": "code",
   "execution_count": 7,
   "metadata": {},
   "outputs": [
    {
     "name": "stdout",
     "output_type": "stream",
     "text": [
      "3223643 9388083\n",
      "subgraph done\n",
      "4835 63471\n"
     ]
    }
   ],
   "source": [
    "sorted_edges, G_sssss = load_data_facebook(\"dataset/youtube-growth-sorted.txt\")"
   ]
  },
  {
   "cell_type": "code",
   "execution_count": 8,
   "metadata": {},
   "outputs": [],
   "source": [
    "train, test = split_data(sorted_edges, 0.9)\n",
    "train_train, train_validation = split_data(train, 0.75)\n",
    "G_train, G_test = prepare_graph(train, test)\n",
    "G_train_train, G_train_validation = prepare_graph(train_train, train_validation)"
   ]
  },
  {
   "cell_type": "code",
   "execution_count": 9,
   "metadata": {},
   "outputs": [
    {
     "name": "stdout",
     "output_type": "stream",
     "text": [
      "4653 57123\n"
     ]
    }
   ],
   "source": [
    "print(nx.number_of_nodes(G_train), nx.number_of_edges(G_train))"
   ]
  },
  {
   "cell_type": "code",
   "execution_count": 10,
   "metadata": {},
   "outputs": [
    {
     "name": "stdout",
     "output_type": "stream",
     "text": [
      "4204 42842\n"
     ]
    }
   ],
   "source": [
    "print(nx.number_of_nodes(G_train_train), nx.number_of_edges(G_train_train))"
   ]
  },
  {
   "cell_type": "markdown",
   "metadata": {},
   "source": [
    "Naive Similarity"
   ]
  },
  {
   "cell_type": "code",
   "execution_count": 11,
   "metadata": {},
   "outputs": [],
   "source": [
    "# similarity function\n",
    "# sim(u,v) = α|N(u) ∩ N(v)|/2 + (1-α)∑γ^dist(i,j)/(|N(u) ∩ N(v)|-1)\n",
    "# α in [0,1], γ in (0,1)\n",
    "def naive_decay_similarity(CN_graph):\n",
    "    nodes = nx.number_of_nodes(CN_graph)\n",
    "    sim_score = 0\n",
    "    all_shortest_path_length = dict(nx.all_pairs_shortest_path_length(CN_graph))\n",
    "    if nodes != 1:\n",
    "        for i in all_shortest_path_length.keys():\n",
    "            for j in all_shortest_path_length[i].keys():\n",
    "                if i < j:\n",
    "                    sim_score += (1/all_shortest_path_length[i][j])/(nodes-1)\n",
    "    return sim_score"
   ]
  },
  {
   "cell_type": "markdown",
   "metadata": {},
   "source": [
    "Model with Parameter Learning"
   ]
  },
  {
   "cell_type": "code",
   "execution_count": 12,
   "metadata": {},
   "outputs": [],
   "source": [
    "# similarity function\n",
    "# sim(u,v) = α|N(u) ∩ N(v)|/2 + (1-α)∑γ^dist(i,j)/(|N(u) ∩ N(v)|-1)\n",
    "# α in [0,1], γ in (0,1)\n",
    "def gamma_decay_similarity(CN_graph, alpha, gamma):\n",
    "    nodes = nx.number_of_nodes(CN_graph)\n",
    "    sim_score = nodes * alpha / 2\n",
    "    all_shortest_path_length = dict(nx.all_pairs_shortest_path_length(CN_graph))\n",
    "    if nodes != 1:\n",
    "        for i in all_shortest_path_length.keys():\n",
    "            for j in all_shortest_path_length[i].keys():\n",
    "                if i < j:\n",
    "                    sim_score += (1-alpha) * (gamma ** all_shortest_path_length[i][j])/(nodes-1)\n",
    "    return sim_score"
   ]
  },
  {
   "cell_type": "code",
   "execution_count": 13,
   "metadata": {},
   "outputs": [],
   "source": [
    "def multi_gamma_decay_similarity(CN_graphs, alpha, gamma):\n",
    "    results = []\n",
    "    for g in CN_graphs:\n",
    "        results.append(gamma_decay_similarity(g, alpha, gamma))\n",
    "    return results"
   ]
  },
  {
   "cell_type": "code",
   "execution_count": 14,
   "metadata": {},
   "outputs": [],
   "source": [
    "def learning_scalar(actual, observe):\n",
    "    xiyi = 0\n",
    "    xi_2 = 0\n",
    "    for i in range(len(actual)):\n",
    "        xiyi += actual[i] * observe[i]\n",
    "        xi_2 += actual[i] * actual[i]\n",
    "    return xiyi/xi_2"
   ]
  },
  {
   "cell_type": "code",
   "execution_count": 15,
   "metadata": {},
   "outputs": [],
   "source": [
    "def square_error(actual, observe):\n",
    "    scalar = learning_scalar(actual, observe)\n",
    "    error = 0\n",
    "    for i in range(len(actual)):\n",
    "        error += (actual[i] - observe[i]/scalar) ** 2\n",
    "    return error"
   ]
  },
  {
   "cell_type": "code",
   "execution_count": 16,
   "metadata": {},
   "outputs": [],
   "source": [
    "def grid_search(G_set, actual, alpha_range, gamma_range):\n",
    "    results = []\n",
    "    for alpha in alpha_range:\n",
    "        for gamma in gamma_range:\n",
    "            observe = multi_gamma_decay_similarity(G_set, alpha, gamma)\n",
    "            error = square_error(actual, observe)\n",
    "            results.append((error, alpha, gamma))\n",
    "    return sorted(results)"
   ]
  },
  {
   "cell_type": "code",
   "execution_count": 19,
   "metadata": {},
   "outputs": [
    {
     "name": "stdout",
     "output_type": "stream",
     "text": [
      "1\n",
      "2\n"
     ]
    },
    {
     "ename": "IndexError",
     "evalue": "list index out of range",
     "output_type": "error",
     "traceback": [
      "\u001b[1;31m---------------------------------------------------------------------------\u001b[0m",
      "\u001b[1;31mIndexError\u001b[0m                                Traceback (most recent call last)",
      "\u001b[1;32m<ipython-input-19-5dba86c313c8>\u001b[0m in \u001b[0;36m<module>\u001b[1;34m()\u001b[0m\n\u001b[0;32m     37\u001b[0m                 \u001b[0mg_sub\u001b[0m \u001b[1;33m=\u001b[0m \u001b[0mG_train_train\u001b[0m\u001b[1;33m.\u001b[0m\u001b[0msubgraph\u001b[0m\u001b[1;33m(\u001b[0m\u001b[0mcn\u001b[0m\u001b[1;33m)\u001b[0m\u001b[1;33m\u001b[0m\u001b[0m\n\u001b[0;32m     38\u001b[0m                 \u001b[0mindex\u001b[0m \u001b[1;33m=\u001b[0m \u001b[0mG_4_edgeindex\u001b[0m\u001b[1;33m[\u001b[0m\u001b[0mnx\u001b[0m\u001b[1;33m.\u001b[0m\u001b[0mnumber_of_edges\u001b[0m\u001b[1;33m(\u001b[0m\u001b[0mg_sub\u001b[0m\u001b[1;33m)\u001b[0m\u001b[1;33m]\u001b[0m\u001b[1;33m\u001b[0m\u001b[0m\n\u001b[1;32m---> 39\u001b[1;33m                 \u001b[1;32mwhile\u001b[0m\u001b[1;33m(\u001b[0m\u001b[0mnx\u001b[0m\u001b[1;33m.\u001b[0m\u001b[0mis_isomorphic\u001b[0m\u001b[1;33m(\u001b[0m\u001b[0mg_sub\u001b[0m\u001b[1;33m,\u001b[0m \u001b[0mG_4\u001b[0m\u001b[1;33m[\u001b[0m\u001b[0mindex\u001b[0m\u001b[1;33m]\u001b[0m\u001b[1;33m)\u001b[0m \u001b[1;33m==\u001b[0m \u001b[1;32mFalse\u001b[0m\u001b[1;33m)\u001b[0m\u001b[1;33m:\u001b[0m\u001b[1;33m\u001b[0m\u001b[0m\n\u001b[0m\u001b[0;32m     40\u001b[0m                     \u001b[0mindex\u001b[0m \u001b[1;33m+=\u001b[0m \u001b[1;36m1\u001b[0m\u001b[1;33m\u001b[0m\u001b[0m\n\u001b[0;32m     41\u001b[0m                 \u001b[0mcommon4\u001b[0m\u001b[1;33m[\u001b[0m\u001b[0mindex\u001b[0m\u001b[1;33m]\u001b[0m \u001b[1;33m+=\u001b[0m \u001b[1;36m1\u001b[0m\u001b[1;33m\u001b[0m\u001b[0m\n",
      "\u001b[1;31mIndexError\u001b[0m: list index out of range"
     ]
    }
   ],
   "source": [
    "# count case 1-4 happening using real-data\n",
    "common1 = [0]\n",
    "common1_appear = [0]\n",
    "common2 = [0] * 2\n",
    "common2_appear = [0] * 2\n",
    "common3 = [0] * 4\n",
    "common3_appear = [0] * 4\n",
    "common4 = [0] * 11\n",
    "common4_appear = [0] * 11\n",
    "\n",
    "iteration = 0\n",
    "for n1 in G_train_train.nodes():\n",
    "    iteration += 1\n",
    "    print(iteration)\n",
    "    \n",
    "    nn = neighbors_neighbor(G_train_train, n1)\n",
    "    for n2 in nn:\n",
    "        if (n1 != n2) and ((n1, n2) not in G_train_train.edges()):\n",
    "            cn = list(nx.common_neighbors(G_train_train, n1, n2))\n",
    "            if len(cn) == 1:\n",
    "                common1[0] += 1\n",
    "                if (n1, n2) in G_train_validation.edges():\n",
    "                    common1_appear[0] += 1\n",
    "            elif len(cn) == 2:\n",
    "                g_sub = G_train_train.subgraph(cn)\n",
    "                index = nx.number_of_edges(g_sub)\n",
    "                common2[index] += 1\n",
    "                if (n1, n2) in G_train_validation.edges():\n",
    "                    common2_appear[index] += 1\n",
    "            elif len(cn) == 3:\n",
    "                g_sub = G_train_train.subgraph(cn)\n",
    "                index = nx.number_of_edges(g_sub)\n",
    "                common3[index] += 1\n",
    "                if (n1, n2) in G_train_validation.edges():\n",
    "                    common3_appear[index] += 1\n",
    "            elif len(cn) == 4:\n",
    "                g_sub = G_train_train.subgraph(cn)\n",
    "                index = G_4_edgeindex[nx.number_of_edges(g_sub)]\n",
    "                while(nx.is_isomorphic(g_sub, G_4[index]) == False):\n",
    "                    index += 1\n",
    "                common4[index] += 1\n",
    "                if (n1, n2) in G_train_validation.edges():\n",
    "                    common4_appear[index] += 1\n",
    "                    "
   ]
  },
  {
   "cell_type": "code",
   "execution_count": 30,
   "metadata": {
    "scrolled": false
   },
   "outputs": [
    {
     "name": "stdout",
     "output_type": "stream",
     "text": [
      "[862998] [1898] [142507, 376391] [539, 791] [20284, 67784, 117765, 155991] [123, 322, 349, 352] [2974, 10414, 20841, 2684, 12458, 15630, 16202, 4312, 56766, 68774, 59361] [29, 68, 119, 16, 64, 89, 75, 22, 205, 213, 135]\n"
     ]
    }
   ],
   "source": [
    "print(common1, common1_appear, common2, common2_appear, common3, common3_appear, common4, common4_appear)\n",
    "\n",
    "# 1 to 3 common neighbors results\n",
    "result_1 = [common1_appear[i] / common1[i] for i in range(len(common1_appear))] \n",
    "result_2 = [common2_appear[i] / common2[i] for i in range(len(common2_appear))] \n",
    "result_3 = [common3_appear[i] / common3[i] for i in range(len(common3_appear))] \n",
    "result_4 = [common4_appear[i] / common4[i] for i in range(len(common4_appear))] \n",
    "actual = result_1 + result_2 + result_3 + result_4"
   ]
  },
  {
   "cell_type": "code",
   "execution_count": 38,
   "metadata": {},
   "outputs": [
    {
     "data": {
      "text/plain": [
       "[(5.741898634793235e-05, 1, 0.0001),\n",
       " (5.741898634793235e-05, 1, 0.001),\n",
       " (5.741898634793235e-05, 1, 0.005),\n",
       " (5.741898634793235e-05, 1, 0.01),\n",
       " (5.741898634793235e-05, 1, 0.05),\n",
       " (5.741898634793235e-05, 1, 0.1),\n",
       " (5.741898634793235e-05, 1, 0.2),\n",
       " (5.741898634793235e-05, 1, 0.5),\n",
       " (5.741898634793235e-05, 1, 0.7),\n",
       " (5.741898634793235e-05, 1, 0.9),\n",
       " (5.742012281177628e-05, 0.9, 0.0001),\n",
       " (5.742580517168696e-05, 0.6, 0.0001),\n",
       " (5.742921462017894e-05, 0.5, 0.0001),\n",
       " (5.743035260055833e-05, 0.9, 0.001),\n",
       " (5.7434328838669733e-05, 0.4, 0.0001),\n",
       " (5.744285265811702e-05, 0.3, 0.0001),\n",
       " (5.745990075406375e-05, 0.2, 0.0001),\n",
       " (5.7475853462269296e-05, 0.9, 0.005),\n",
       " (5.7487187924675035e-05, 0.6, 0.001),\n",
       " (5.751104869218932e-05, 0.1, 0.0001),\n",
       " (5.7521292360663043e-05, 0.5, 0.001),\n",
       " (5.753281011516546e-05, 0.9, 0.01),\n",
       " (5.75724535588423e-05, 0.4, 0.001),\n",
       " (5.7613360933467927e-05, 0.05, 0.0001),\n",
       " (5.7657734295007117e-05, 0.3, 0.001),\n",
       " (5.776028965899657e-05, 0.6, 0.005),\n",
       " (5.782834073411163e-05, 0.2, 0.001),\n",
       " (5.793103097102188e-05, 0.5, 0.005),\n",
       " (5.799166941317195e-05, 0.9, 0.05),\n",
       " (5.8102326973189464e-05, 0.6, 0.01),\n",
       " (5.818725310801926e-05, 0.4, 0.005),\n",
       " (5.83405137161533e-05, 0.1, 0.001),\n",
       " (5.843262774125612e-05, 0.01, 0.0001),\n",
       " (5.844434828620767e-05, 0.5, 0.01),\n",
       " (5.857318214553488e-05, 0.9, 0.1),\n",
       " (5.8614578199515005e-05, 0.3, 0.005),\n",
       " (5.895780392979432e-05, 0.4, 0.01),\n",
       " (5.936639123438353e-05, 0.05, 0.001),\n",
       " (5.945855138187504e-05, 0.005, 0.0001),\n",
       " (5.947027185396782e-05, 0.2, 0.005),\n",
       " (5.976223425191045e-05, 0.9, 0.2),\n",
       " (5.981464920818891e-05, 0.3, 0.01),\n",
       " (6.086415923908191e-05, 0.6, 0.05),\n",
       " (6.153212232178715e-05, 0.2, 0.01),\n",
       " (6.204497635070672e-05, 0.1, 0.005),\n",
       " (6.259403884775369e-05, 0.5, 0.05),\n",
       " (6.353314138823143e-05, 0.9, 0.5),\n",
       " (6.437627048351763e-05, 0.6, 0.1),\n",
       " (6.519622245122807e-05, 0.4, 0.05),\n",
       " (6.621799233454798e-05, 0.9, 0.7),\n",
       " (6.670933473087225e-05, 0.1, 0.01),\n",
       " (6.722188699308853e-05, 0.05, 0.005),\n",
       " (6.763161120070735e-05, 0.01, 0.001),\n",
       " (6.772375981048082e-05, 0.001, 0.0001),\n",
       " (6.787709415125756e-05, 0.5, 0.1),\n",
       " (6.904836962874194e-05, 0.9, 0.9),\n",
       " (6.954806661008963e-05, 0.3, 0.05),\n",
       " (7.157583423989188e-05, 0.6, 0.2),\n",
       " (7.314327424241426e-05, 0.4, 0.1),\n",
       " (7.71270275915668e-05, 0.05, 0.01),\n",
       " (7.804187208599087e-05, 0.005, 0.001),\n",
       " (7.827901469306535e-05, 0.2, 0.05),\n",
       " (7.869225371205882e-05, 0.5, 0.2),\n",
       " (8.19282962430227e-05, 0.3, 0.1),\n",
       " (8.932974913747334e-05, 0.4, 0.2),\n",
       " (9.423684845043878e-05, 0.6, 0.5),\n",
       " (9.9360753457331e-05, 0.2, 0.1),\n",
       " (0.00010426037363873982, 0.1, 0.05),\n",
       " (0.00010678663033218492, 0.3, 0.2),\n",
       " (0.00010860953798057272, 0.01, 0.005),\n",
       " (0.00010999578524590001, 0.6, 0.7),\n",
       " (0.00011215033829914026, 0.5, 0.5),\n",
       " (0.00012618918626852488, 0.6, 0.9),\n",
       " (0.0001346320233137506, 0.5, 0.7),\n",
       " (0.00013768739619903384, 0.4, 0.5),\n",
       " (0.00013998991168420041, 0.2, 0.2),\n",
       " (0.00014867022232921157, 0.1, 0.1),\n",
       " (0.00015293933988959872, 0.05, 0.05),\n",
       " (0.00015632952990345567, 0.01, 0.01),\n",
       " (0.00015675202144862534, 0.005, 0.005),\n",
       " (0.00015698100977712257, 0.5, 0.9),\n",
       " (0.00015708983343560212, 0.001, 0.001),\n",
       " (0.00016830405892595665, 0.4, 0.7),\n",
       " (0.0001761148975504058, 0.3, 0.5),\n",
       " (0.00019723181343499262, 0.4, 0.9),\n",
       " (0.00021580597553674937, 0.3, 0.7),\n",
       " (0.000222554069286194, 0.1, 0.2),\n",
       " (0.00022916183600212806, 0.05, 0.1),\n",
       " (0.00023527118787386095, 0.005, 0.01),\n",
       " (0.0002383027524597483, 0.2, 0.5),\n",
       " (0.0002506091098179953, 0.3, 0.9),\n",
       " (0.0002855210678602549, 0.2, 0.7),\n",
       " (0.0003226413781102733, 0.2, 0.9),\n",
       " (0.00032813437288283366, 0.05, 0.2),\n",
       " (0.0003498845553113928, 0.1, 0.5),\n",
       " (0.00037153227699900185, 0.01, 0.05),\n",
       " (0.0003745056029874361, 0.001, 0.005),\n",
       " (0.0003931664521223436, 0.1, 0.7),\n",
       " (0.0004219450520717183, 0.1, 0.9),\n",
       " (0.0004429886793860437, 0.05, 0.5),\n",
       " (0.0004659206605261484, 0.01, 0.1),\n",
       " (0.00047001187460324676, 0.005, 0.05),\n",
       " (0.0004701555332053887, 0.05, 0.7),\n",
       " (0.0004735127538174654, 0.001, 0.01),\n",
       " (0.000485882942353451, 0.05, 0.9),\n",
       " (0.0005267355078059947, 0.01, 0.2),\n",
       " (0.0005364037555392009, 0.005, 0.1),\n",
       " (0.0005460134071440039, 0.01, 0.9),\n",
       " (0.0005484810879269096, 0.01, 0.7),\n",
       " (0.000550773686521789, 0.01, 0.5),\n",
       " (0.000554176402505131, 0.005, 0.9),\n",
       " (0.0005595769290992082, 0.005, 0.7),\n",
       " (0.0005608183408814173, 0.001, 0.9),\n",
       " (0.0005624945628950194, 0, 0.9),\n",
       " (0.0005672055231220128, 0.005, 0.5),\n",
       " (0.0005682332472087821, 0.005, 0.2),\n",
       " (0.0005686889665509954, 0.001, 0.7),\n",
       " (0.0005710005084661392, 0, 0.7),\n",
       " (0.0005809268500405035, 0.001, 0.5),\n",
       " (0.0005844406696880368, 0, 0.5),\n",
       " (0.0005960918525549275, 0.001, 0.05),\n",
       " (0.000605958466783844, 0.001, 0.2),\n",
       " (0.0006092330338340031, 0.001, 0.1),\n",
       " (0.0006161069507053722, 0, 0.2),\n",
       " (0.0006304213423104088, 0, 0.1),\n",
       " (0.0006384072406536898, 0, 0.05),\n",
       " (0.0006452240170048022, 0, 0.01),\n",
       " (0.0006461038900153128, 0, 0.005),\n",
       " (0.0006468123203680522, 0, 0.001),\n",
       " (0.0006469722745775572, 0, 0.0001)]"
      ]
     },
     "execution_count": 38,
     "metadata": {},
     "output_type": "execute_result"
    }
   ],
   "source": [
    "grid_search(G_set, actual, [0, 0.001, 0.005, 0.01, 0.05, 0.1, 0.2, 0.3, 0.4, 0.5, 0.6, 0.9, 1], [0.0001, 0.001, 0.005, 0.01, 0.05, 0.1, 0.2, 0.5,  0.7, 0.9])"
   ]
  },
  {
   "cell_type": "markdown",
   "metadata": {},
   "source": [
    "Prepare testing set"
   ]
  },
  {
   "cell_type": "code",
   "execution_count": 20,
   "metadata": {},
   "outputs": [],
   "source": [
    "# generate candidates at random\n",
    "def random_candidates(G_train, G_test, sd = None):\n",
    "    candidates = list(G_test.edges())\n",
    "    size = 2*len(candidates)\n",
    "    seed(sd)\n",
    "    while len(candidates) < size:\n",
    "        n1 = choice(list(G_test.nodes))\n",
    "        n2 = choice(list(G_test.nodes))\n",
    "        if (n1 != n2) and ((n1, n2) not in G_train.edges()) and ((n1, n2) not in G_test.edges()):\n",
    "            candidates.append((n1, n2))\n",
    "    return candidates\n",
    "\n",
    "# generate candidates more than one common neighbors\n",
    "def have_cn_candidates(G_train, G_test, sd = None):\n",
    "    candidates = list(G_test.edges())\n",
    "    size = 2*len(candidates)\n",
    "    seed(sd)\n",
    "    while len(candidates) < size:\n",
    "        n1 = choice(list(G_test.nodes))\n",
    "        nn = neighbors_neighbor(G_train, n1)\n",
    "        n2 = choice(list(nn))\n",
    "        if (n1 != n2) and ((n1, n2) not in G_train.edges()) and ((n1, n2) not in G_test.edges()):\n",
    "            candidates.append((n1, n2))\n",
    "    return candidates\n",
    "\n",
    "# generate candidates more than one common neighbors\n",
    "def have_cn2_candidates(G_train, G_test, sd = None):\n",
    "    candidates = list(G_test.edges())\n",
    "    size = 2*len(candidates)\n",
    "    seed(sd)\n",
    "    while len(candidates) < size:\n",
    "        n1 = choice(list(G_test.nodes))\n",
    "        nn = neighbors_neighbor(G_train, n1)\n",
    "        n2 = choice(list(nn))\n",
    "        if (n1 != n2) and ((n1, n2) not in G_train.edges()) and ((n1, n2) not in G_test.edges()) and (len(list(nx.common_neighbors(G_train, n1, n2)))>1):\n",
    "            candidates.append((n1, n2))\n",
    "    return candidates\n",
    "\n",
    "# generate candidates distances less than 3\n",
    "def less_3_candidates(G_train, G_test, sd = None):\n",
    "    candidates = list(G_test.edges())\n",
    "    size = 2*len(candidates)\n",
    "    seed(sd)\n",
    "    while len(candidates) < size:\n",
    "        n1 = choice(list(G_test.nodes))\n",
    "        currentnode = n1\n",
    "        for i in range(3):\n",
    "            nextnode = sample(list(G_train[currentnode]),1)[0]\n",
    "            currentnode = nextnode\n",
    "        n2 = currentnode\n",
    "        if (n1 != n2) and ((n1, n2) not in G_train.edges()) and ((n1, n2) not in G_test.edges()):\n",
    "            candidates.append((n1, n2))\n",
    "    return candidates"
   ]
  },
  {
   "cell_type": "code",
   "execution_count": 40,
   "metadata": {},
   "outputs": [],
   "source": [
    "#candidates = have_cn_candidates(G_train, G_test, sd = 1)\n",
    "#candidates = have_cn2_candidates(G_train, G_test, sd = 1)\n",
    "#candidates = random_candidates(G_train, G_test, sd = 1)\n",
    "candidates = less_3_candidates(G_train, G_test, sd = 1)"
   ]
  },
  {
   "cell_type": "code",
   "execution_count": 41,
   "metadata": {},
   "outputs": [
    {
     "data": {
      "text/plain": [
       "10944"
      ]
     },
     "execution_count": 41,
     "metadata": {},
     "output_type": "execute_result"
    }
   ],
   "source": [
    "len(candidates)"
   ]
  },
  {
   "cell_type": "markdown",
   "metadata": {},
   "source": [
    "Link Prediction"
   ]
  },
  {
   "cell_type": "code",
   "execution_count": 24,
   "metadata": {},
   "outputs": [],
   "source": [
    "# common_neighbor\n",
    "def common_neighbor(G_train, edge_list):\n",
    "    y_score = []\n",
    "    for l in edge_list:\n",
    "        y_score.append(len(list(nx.common_neighbors(G_train, l[0], l[1]))))\n",
    "    return y_score"
   ]
  },
  {
   "cell_type": "code",
   "execution_count": 25,
   "metadata": {},
   "outputs": [],
   "source": [
    "# Adamic Adar\n",
    "def adamic_adar(G_train, edge_list):\n",
    "    y_score = [c for (a,b,c) in list(nx.adamic_adar_index(G_train, ebunch=edge_list))]\n",
    "    return y_score"
   ]
  },
  {
   "cell_type": "code",
   "execution_count": 26,
   "metadata": {},
   "outputs": [],
   "source": [
    "# resource_allocation_index\n",
    "def resource_allocation(G_train, edge_list):\n",
    "    y_score = [c for (a,b,c) in list(nx.resource_allocation_index(G_train, ebunch=edge_list))]\n",
    "    return y_score"
   ]
  },
  {
   "cell_type": "code",
   "execution_count": 27,
   "metadata": {},
   "outputs": [],
   "source": [
    "# jaccard_coefficient\n",
    "def jaccard(G_train, edge_list):\n",
    "    y_score = [c for (a,b,c) in list(nx.jaccard_coefficient(G_train, ebunch=edge_list))]\n",
    "    return y_score"
   ]
  },
  {
   "cell_type": "code",
   "execution_count": 28,
   "metadata": {},
   "outputs": [],
   "source": [
    "# preferential_attachment\n",
    "def preferential_attach(G_train, edge_list):\n",
    "    y_score = [c for (a,b,c) in list(nx.preferential_attachment(G_train, ebunch=edge_list))]\n",
    "    return y_score"
   ]
  },
  {
   "cell_type": "code",
   "execution_count": 32,
   "metadata": {},
   "outputs": [],
   "source": [
    "# Katz\n",
    "def katz_index(G_train, edge_list, beta = 0.0005):\n",
    "    y_score = []\n",
    "    for l in edge_list:\n",
    "        paths = list(nx.all_simple_paths(G_train, l[0], l[1], cutoff = 3))\n",
    "        sc = 0\n",
    "        for p in paths:\n",
    "            sc += beta**(len(p)-1)\n",
    "        y_score.append(sc)\n",
    "    return y_score"
   ]
  },
  {
   "cell_type": "code",
   "execution_count": 30,
   "metadata": {},
   "outputs": [],
   "source": [
    "# Naive CNS\n",
    "def naive_CNS(G_train, edge_list):\n",
    "    y_score = []\n",
    "    for l in edge_list:\n",
    "        cn = list(nx.common_neighbors(G_train, l[0], l[1]))\n",
    "        cn_graph = G_train.subgraph(cn)\n",
    "        y_score.append(naive_decay_similarity(cn_graph))\n",
    "    return y_score"
   ]
  },
  {
   "cell_type": "code",
   "execution_count": 31,
   "metadata": {},
   "outputs": [],
   "source": [
    "# Complete CNS\n",
    "def complete_CNS(G_train, edge_list, alpha, gamma):\n",
    "    y_score = []\n",
    "    for l in edge_list:\n",
    "        cn = list(nx.common_neighbors(G_train, l[0], l[1]))\n",
    "        cn_graph = G_train.subgraph(cn)\n",
    "        y_score.append(gamma_decay_similarity(cn_graph, alpha, gamma))\n",
    "    return y_score"
   ]
  },
  {
   "cell_type": "code",
   "execution_count": null,
   "metadata": {},
   "outputs": [],
   "source": []
  },
  {
   "cell_type": "code",
   "execution_count": 42,
   "metadata": {},
   "outputs": [
    {
     "name": "stdout",
     "output_type": "stream",
     "text": [
      "CN done 0.6114988673063934\n",
      "AA done 0.6162917249110837\n",
      "RA done 0.623007583396387\n",
      "J done 0.576372591139154\n",
      "PA done 0.6321714440447488\n",
      "KATZ done 0.6192612717641754\n",
      "naive done 0.6080978642466912\n",
      "complete done 0.6119090162090471\n"
     ]
    }
   ],
   "source": [
    "#put it togather\n",
    "y_test = []\n",
    "for l in candidates:\n",
    "    if l in G_test.edges():\n",
    "        y_test.append(1)\n",
    "    else:\n",
    "        y_test.append(0)\n",
    "        \n",
    "cn_score = common_neighbor(G_train, candidates)\n",
    "cn_fpr, cn_tpr, _ = roc_curve(y_test, cn_score)\n",
    "cn_roc_auc = auc(cn_fpr, cn_tpr)\n",
    "print(\"CN done\", cn_roc_auc)\n",
    "\n",
    "aa_score = adamic_adar(G_train, candidates)\n",
    "aa_fpr, aa_tpr, _ = roc_curve(y_test, aa_score)\n",
    "aa_roc_auc = auc(aa_fpr, aa_tpr)\n",
    "print(\"AA done\", aa_roc_auc)\n",
    "\n",
    "ra_score = resource_allocation(G_train, candidates)\n",
    "ra_fpr, ra_tpr, _ = roc_curve(y_test, ra_score)\n",
    "ra_roc_auc = auc(ra_fpr, ra_tpr)\n",
    "print(\"RA done\", ra_roc_auc)\n",
    "\n",
    "j_score = jaccard(G_train, candidates)\n",
    "j_fpr, j_tpr, _ = roc_curve(y_test, j_score)\n",
    "j_roc_auc = auc(j_fpr, j_tpr)\n",
    "print(\"J done\", j_roc_auc)\n",
    "\n",
    "pa_score = preferential_attach(G_train, candidates)\n",
    "pa_fpr, pa_tpr, _ = roc_curve(y_test, pa_score)\n",
    "pa_roc_auc = auc(pa_fpr, pa_tpr)\n",
    "print(\"PA done\", pa_roc_auc)\n",
    "\n",
    "katz_score = katz_index(G_train, candidates)\n",
    "katz_fpr, katz_tpr, _ = roc_curve(y_test, katz_score)\n",
    "katz_roc_auc = auc(katz_fpr, katz_tpr)\n",
    "print(\"KATZ done\", katz_roc_auc)\n",
    "\n",
    "naive_CNS_score = naive_CNS(G_train, candidates)\n",
    "naive_fpr, naive_tpr, _ = roc_curve(y_test, naive_CNS_score)\n",
    "naive_roc_auc = auc(naive_fpr, naive_tpr)\n",
    "print(\"naive done\", naive_roc_auc)\n",
    "\n",
    "complete_CNS_score = complete_CNS(G_train, candidates, 0.1, 0.5)\n",
    "complete_fpr, complete_tpr, _ = roc_curve(y_test, complete_CNS_score)\n",
    "complete_roc_auc = auc(complete_fpr, complete_tpr)\n",
    "print(\"complete done\", complete_roc_auc)"
   ]
  },
  {
   "cell_type": "code",
   "execution_count": null,
   "metadata": {},
   "outputs": [],
   "source": []
  },
  {
   "cell_type": "code",
   "execution_count": null,
   "metadata": {},
   "outputs": [],
   "source": []
  },
  {
   "cell_type": "code",
   "execution_count": 69,
   "metadata": {},
   "outputs": [
    {
     "data": {
      "text/plain": [
       "'\\ndef reverse_all_path(graph): \\n    reverse_sum = 0\\n    for i in graph.nodes():\\n        for j in graph.nodes():\\n            if i < j:\\n                all_path = list(nx.all_simple_paths(graph, source=i, target=j))\\n                for p in all_path:\\n                    reverse_sum += 1/len(p)\\n    return reverse_sum\\n'"
      ]
     },
     "execution_count": 69,
     "metadata": {},
     "output_type": "execute_result"
    }
   ],
   "source": [
    "# abondon since not normalized\n",
    "'''\n",
    "# scoring functions based on structure\n",
    "def reverse_shortest_path(graph):\n",
    "    all_shortest_path_length = dict(nx.all_pairs_shortest_path_length(graph))\n",
    "    reverse_sum = 0\n",
    "    for i in all_shortest_path_length.keys():\n",
    "        for j in all_shortest_path_length[i].keys():\n",
    "            if i < j:\n",
    "                reverse_sum += 1/(all_shortest_path_length[i][j]+2)\n",
    "    return reverse_sum\n",
    "\n",
    "# scoring functions based on structure\n",
    "def reverse_shortest_path_log(graph):\n",
    "    all_shortest_path_length = dict(nx.all_pairs_shortest_path_length(graph))\n",
    "    print(all_shortest_path_length)\n",
    "    reverse_sum = 0\n",
    "    for i in all_shortest_path_length.keys():\n",
    "        for j in all_shortest_path_length[i].keys():\n",
    "            if i < j:\n",
    "                reverse_sum += 1/math.log(all_shortest_path_length[i][j] + 1)\n",
    "    return reverse_sum\n",
    "\n",
    "\n",
    "\n",
    "\n",
    "def reverse_all_path(graph): \n",
    "    reverse_sum = 0\n",
    "    for i in graph.nodes():\n",
    "        for j in graph.nodes():\n",
    "            if i < j:\n",
    "                all_path = list(nx.all_simple_paths(graph, source=i, target=j))\n",
    "                for p in all_path:\n",
    "                    reverse_sum += 1/len(p)\n",
    "    return reverse_sum\n",
    "'''"
   ]
  },
  {
   "cell_type": "code",
   "execution_count": 9,
   "metadata": {
    "scrolled": false
   },
   "outputs": [
    {
     "name": "stdout",
     "output_type": "stream",
     "text": [
      "=========================================================\n",
      "Please add the following lines to your LaTeX preamble:\n",
      "\n",
      "\\usepackage[utf8]{inputenc}\n",
      "\\usepackage{fontspec} % This line only for XeLaTeX and LuaLaTeX\n",
      "\\usepackage{pgfplots}\n",
      "=========================================================\n",
      "Horizontal alignment will be ignored as no 'x tick label text width' has been passed in the 'extra' parameter\n",
      "Horizontal alignment will be ignored as no 'y tick label text width' has been passed in the 'extra' parameter\n"
     ]
    },
    {
     "data": {
      "image/png": "[encoded data removed]",
      "text/plain": [
       "<Figure size 1080x216 with 1 Axes>"
      ]
     },
     "metadata": {},
     "output_type": "display_data"
    }
   ],
   "source": [
    "# Fake dataset\n",
    "height = results_caculate\n",
    "bars = ('1-0', '2-0', '2-1', '3-0', '3-1', '3-2', '3-3', '4-0', '4-1', '4-2', '4-3', '4-4', '4-5', '4-6', '4-7', '4-8', '4-9','4-10', \n",
    "       '5-0', '5-1', '5-2', '5-3', '5-4', '5-5', '5-6', '5-7', '5-8', '5-9', \n",
    "        '5-10', '5-11', '5-12', '5-13', '5-14', '5-15', '5-16', '5-17', '5-18', '5-19',\n",
    "       '5-20', '5-21', '5-22', '5-23', '5-24', '5-25', '5-26', '5-27', '5-28', '5-29',\n",
    "       '5-30', '5-31', '5-32', '5-33')\n",
    "colors =['black', 'red', 'red', 'green','green','green', 'green','blue','blue','blue','blue','blue','blue','blue','blue','blue','blue','blue',\n",
    "         'cyan','cyan','cyan','cyan','cyan','cyan','cyan','cyan','cyan','cyan','cyan','cyan','cyan','cyan','cyan','cyan','cyan','cyan',\n",
    "        'cyan','cyan','cyan','cyan','cyan','cyan','cyan','cyan','cyan','cyan','cyan','cyan','cyan','cyan','cyan','cyan']\n",
    "y_pos = np.arange(len(bars))\n",
    " \n",
    "# Create bars and choose color\n",
    "plt.figure(figsize=(15, 3))  # width:20, height:3\n",
    "plt.bar(y_pos, height, align='edge', width=0.4, color = colors)\n",
    " \n",
    "# Add title and axis names\n",
    "plt.xlabel('Common neighbor structure index')\n",
    "plt.ylabel('Probability of links appear')\n",
    " \n",
    "# Create names\n",
    "plt.xticks(rotation=60)\n",
    "plt.xticks(y_pos, bars)\n",
    " \n",
    "# Show graphic\n",
    "# plt.show()\n",
    "tikz_save(\"Probabilities.tikz\", figureheight='5cm', figurewidth='15cm')"
   ]
  },
  {
   "cell_type": "code",
   "execution_count": 29,
   "metadata": {},
   "outputs": [],
   "source": [
    "# count case 1-5 happening using real-data\n",
    "'''\n",
    "common1 = [0]\n",
    "common1_appear = [0]\n",
    "common2 = [0] * 2\n",
    "common2_appear = [0] * 2\n",
    "common3 = [0] * 4\n",
    "common3_appear = [0] * 4\n",
    "common4 = [0] * 11\n",
    "common4_appear = [0] * 11\n",
    "common5 = [0] * 34\n",
    "common5_appear = [0] * 34\n",
    "\n",
    "iteration = 0\n",
    "for n1 in G_train.nodes():\n",
    "    iteration += 1\n",
    "    if iteration%100 == 0:\n",
    "        print(iteration)\n",
    "    \n",
    "    nn = neighbors_neighbor(G_train, n1)\n",
    "    for n2 in nn:\n",
    "        if (n1 != n2) and ((n1, n2) not in G_train.edges()):\n",
    "            cn = list(nx.common_neighbors(G_train, n1, n2))\n",
    "            if len(cn) == 1:\n",
    "                common1[0] += 1\n",
    "                if (n1, n2) in G_test.edges():\n",
    "                    common1_appear[0] += 1\n",
    "            elif len(cn) == 2:\n",
    "                g_sub = G_train.subgraph(cn)\n",
    "                index = nx.number_of_edges(g_sub)\n",
    "                common2[index] += 1\n",
    "                if (n1, n2) in G_test.edges():\n",
    "                    common2_appear[index] += 1\n",
    "            elif len(cn) == 3:\n",
    "                g_sub = G_train.subgraph(cn)\n",
    "                index = nx.number_of_edges(g_sub)\n",
    "                common3[index] += 1\n",
    "                if (n1, n2) in G_test.edges():\n",
    "                    common3_appear[index] += 1\n",
    "            elif len(cn) == 4:\n",
    "                g_sub = G_train.subgraph(cn)\n",
    "                index = G_4_edgeindex[nx.number_of_edges(g_sub)]\n",
    "                while(nx.is_isomorphic(g_sub, G_4[index]) == False):\n",
    "                    index += 1\n",
    "                common4[index] += 1\n",
    "                if (n1, n2) in G_test.edges():\n",
    "                    common4_appear[index] += 1\n",
    "            \n",
    "            elif len(cn) == 5:\n",
    "                g_sub = G_train.subgraph(cn)\n",
    "                index = G_5_edgeindex[nx.number_of_edges(g_sub)]\n",
    "                while(nx.is_isomorphic(g_sub, G_5[index]) == False):\n",
    "                    index += 1\n",
    "                common5[index] += 1\n",
    "                if (n1, n2) in G_test.edges():\n",
    "                    common5_appear[index] += 1\n",
    "                    \n",
    "\n",
    "print(common1, common1_appear, common2, common2_appear, common3, common3_appear, common4, common4_appear, common5, common5_appear)\n",
    "\n",
    "# 1 to 3 common neighbors results\n",
    "result_1 = [common1_appear[i] / common1[i] for i in range(len(common1_appear))] \n",
    "result_2 = [common2_appear[i] / common2[i] for i in range(len(common2_appear))] \n",
    "result_3 = [common3_appear[i] / common3[i] for i in range(len(common3_appear))] \n",
    "result_4 = [common4_appear[i] / common4[i] for i in range(len(common4_appear))] \n",
    "result_5 = [common5_appear[i] / common5[i] for i in range(len(common5_appear))] \n",
    "results = result_1 + result_2 + result_3 + result_4 + result_5\n",
    "'''"
   ]
  },
  {
   "cell_type": "code",
   "execution_count": 23,
   "metadata": {
    "scrolled": true
   },
   "outputs": [
    {
     "name": "stdout",
     "output_type": "stream",
     "text": [
      "0.7783611675034265 8.578861365051615e-16\n"
     ]
    }
   ],
   "source": [
    "# kendall-tau rank \n",
    "import scipy.stats as ss\n",
    "x1 = ss.rankdata(actual)\n",
    "x2 = ss.rankdata(abc)\n",
    "tau, p_value = ss.kendalltau(x1, x2)\n",
    "print(tau, p_value)\n"
   ]
  },
  {
   "cell_type": "code",
   "execution_count": null,
   "metadata": {},
   "outputs": [],
   "source": []
  },
  {
   "cell_type": "code",
   "execution_count": null,
   "metadata": {},
   "outputs": [],
   "source": []
  }
 ],
 "metadata": {
  "kernelspec": {
   "display_name": "Python 3",
   "language": "python",
   "name": "python3"
  },
  "language_info": {
   "codemirror_mode": {
    "name": "ipython",
    "version": 3
   },
   "file_extension": ".py",
   "mimetype": "text/x-python",
   "name": "python",
   "nbconvert_exporter": "python",
   "pygments_lexer": "ipython3",
   "version": "3.6.3"
  }
 },
 "nbformat": 4,
 "nbformat_minor": 2
}

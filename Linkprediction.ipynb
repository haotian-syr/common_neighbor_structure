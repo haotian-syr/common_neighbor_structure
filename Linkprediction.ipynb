{
 "cells": [
  {
   "cell_type": "code",
   "execution_count": 1,
   "metadata": {},
   "outputs": [],
   "source": [
    "import networkx as nx\n",
    "import random as rdm\n",
    "import numpy as np\n",
    "import math\n",
    "from sklearn.metrics import roc_curve, auc\n",
    "from sklearn.metrics import roc_auc_score\n",
    "from random import choice\n",
    "from random import seed\n",
    "from random import sample\n",
    "\n",
    "# Utilities\n",
    "import matplotlib\n",
    "matplotlib.use('Agg')\n",
    "import matplotlib.pyplot as plt\n",
    "%matplotlib inline\n",
    "from tikzplotlib import save as tikz_save\n",
    "from tikzplotlib import get_tikz_code "
   ]
  },
  {
   "cell_type": "code",
   "execution_count": 2,
   "metadata": {},
   "outputs": [],
   "source": [
    "# enumerate small graphs based on edges\n",
    "# 1 vertices\n",
    "G_1_0 = nx.Graph()\n",
    "G_1_0.add_nodes_from([1])\n",
    "\n",
    "# 2 vertices\n",
    "G_2_0 = nx.Graph()\n",
    "G_2_0.add_nodes_from([1,2])\n",
    "G_2_1 = nx.complement(G_2_0)\n",
    "G_2 = [G_2_0, G_2_1]\n",
    "G_2_edgeindex = [0, 1]\n",
    "\n",
    "# 3 vertices\n",
    "G_3_0 = nx.Graph()\n",
    "G_3_0.add_nodes_from([1,2,3])\n",
    "G_3_1 = nx.Graph()\n",
    "G_3_1.add_nodes_from([1,2,3])\n",
    "G_3_1.add_edge(1,2)\n",
    "G_3_2 = nx.complement(G_3_1)\n",
    "G_3_3 = nx.complement(G_3_0)\n",
    "G_3 = [G_3_0, G_3_1, G_3_2, G_3_3]\n",
    "G_3_edgeindex = [0, 1, 2, 3]\n",
    "\n",
    "# 4 vertices\n",
    "G_4_0 = nx.Graph()\n",
    "G_4_0.add_nodes_from([1,2,3,4])\n",
    "G_4_1 = nx.Graph()\n",
    "G_4_1.add_nodes_from([1,2,3,4])\n",
    "G_4_1.add_edge(1,2)\n",
    "G_4_2 = nx.Graph()\n",
    "G_4_2.add_nodes_from([1,2,3,4])\n",
    "G_4_2.add_edges_from([(1,2), (2,3)])\n",
    "G_4_3 = nx.Graph()\n",
    "G_4_3.add_nodes_from([1,2,3,4])\n",
    "G_4_3.add_edges_from([(1,2), (3,4)])\n",
    "G_4_4 = nx.Graph()\n",
    "G_4_4.add_edges_from([(1,2), (1,3), (1,4)])\n",
    "G_4_5 = nx.Graph()\n",
    "G_4_5.add_edges_from([(1,2), (2,3), (3,4)])\n",
    "G_4_6 = nx.complement(G_4_4)\n",
    "G_4_7 = nx.complement(G_4_3)\n",
    "G_4_8 = nx.complement(G_4_2)\n",
    "G_4_9 = nx.complement(G_4_1)\n",
    "G_4_10 = nx.complement(G_4_0)\n",
    "G_4 = [G_4_0, G_4_1, G_4_2, G_4_3, G_4_4, G_4_5, G_4_6, G_4_7, G_4_8, G_4_9, G_4_10]\n",
    "G_4_edgeindex = [0, 1, 2, 4, 7, 9, 10]\n",
    "\n",
    "# 5 vertices\n",
    "G_5_0 = nx.Graph()\n",
    "G_5_0.add_nodes_from([1,2,3,4,5])\n",
    "G_5_1 = nx.Graph()\n",
    "G_5_1.add_nodes_from([1,2,3,4,5])\n",
    "G_5_1.add_edge(1,2)\n",
    "G_5_2 = nx.Graph()\n",
    "G_5_2.add_nodes_from([1,2,3,4,5])\n",
    "G_5_2.add_edges_from([(1,2), (2,3)])\n",
    "G_5_3 = nx.Graph()\n",
    "G_5_3.add_nodes_from([1,2,3,4,5])\n",
    "G_5_3.add_edges_from([(1,2), (3,4)])\n",
    "G_5_4 = nx.Graph()\n",
    "G_5_4.add_nodes_from([1,2,3,4,5])\n",
    "G_5_4.add_edges_from([(1,2), (1,3), (1,4)])\n",
    "G_5_5 = nx.Graph()\n",
    "G_5_5.add_nodes_from([1,2,3,4,5])\n",
    "G_5_5.add_edges_from([(1,2), (2,3), (4,5)])\n",
    "G_5_6 = nx.Graph()\n",
    "G_5_6.add_nodes_from([1,2,3,4,5])\n",
    "G_5_6.add_edges_from([(1,2), (2,3), (3,4)])\n",
    "G_5_7 = nx.Graph()\n",
    "G_5_7.add_nodes_from([1,2,3,4,5])\n",
    "G_5_7.add_edges_from([(1,2), (2,3), (3,1)])\n",
    "G_5_8 = nx.Graph()\n",
    "G_5_8.add_edges_from([(1,2), (1,3), (1,4), (1,5)])\n",
    "G_5_9 = nx.Graph()\n",
    "G_5_9.add_nodes_from([1,2,3,4,5])\n",
    "G_5_9.add_edges_from([(1,2), (2,3), (3,4), (4,1)])\n",
    "G_5_10 = nx.Graph()\n",
    "G_5_10.add_edges_from([(1,2), (1,3), (1,4), (4,5)])\n",
    "G_5_11 = nx.Graph()\n",
    "G_5_11.add_nodes_from([1,2,3,4,5])\n",
    "G_5_11.add_edges_from([(1,2), (1,3), (1,4), (3,4)])\n",
    "G_5_12 = nx.Graph()\n",
    "G_5_12.add_edges_from([(1,2), (2,3), (3,4), (4,5)])\n",
    "G_5_13 = nx.Graph()\n",
    "G_5_13.add_edges_from([(1,2), (2,3), (3,1), (4,5)])\n",
    "G_5_14 = nx.Graph()\n",
    "G_5_14.add_edges_from([(1,2), (2,3), (3,4), (4,1), (1,5)])\n",
    "G_5_15 = nx.Graph()\n",
    "G_5_15.add_edges_from([(1,2), (2,3), (3,1), (4,1), (3,5)])\n",
    "G_5_16 = nx.Graph()\n",
    "G_5_16.add_edges_from([(1,2), (2,3), (3,1), (4,1), (1,5)])\n",
    "G_5_17 = nx.Graph()\n",
    "G_5_17.add_edges_from([(1,2), (2,3), (3,4), (4,5), (1,5)])\n",
    "G_5_18 = nx.complement(G_5_16)\n",
    "G_5_19 = nx.complement(G_5_14)\n",
    "G_5_20 = nx.complement(G_5_13)\n",
    "G_5_21 = nx.complement(G_5_12)\n",
    "G_5_22 = nx.complement(G_5_11)\n",
    "G_5_23 = nx.complement(G_5_10)\n",
    "G_5_24 = nx.complement(G_5_9)\n",
    "G_5_25 = nx.complement(G_5_8)\n",
    "G_5_26 = nx.complement(G_5_7)\n",
    "G_5_27 = nx.complement(G_5_6)\n",
    "G_5_28 = nx.complement(G_5_5)\n",
    "G_5_29 = nx.complement(G_5_4)\n",
    "G_5_30 = nx.complement(G_5_3)\n",
    "G_5_31 = nx.complement(G_5_2)\n",
    "G_5_32 = nx.complement(G_5_1)\n",
    "G_5_33 = nx.complement(G_5_0)\n",
    "G_5 = [G_5_0, G_5_1, G_5_2, G_5_3, G_5_4, G_5_5, G_5_6, G_5_7, G_5_8, G_5_9, G_5_10,\n",
    "      G_5_11, G_5_12, G_5_13, G_5_14, G_5_15, G_5_16, G_5_17, G_5_18, G_5_19, G_5_20,\n",
    "      G_5_21, G_5_22, G_5_23, G_5_24, G_5_25, G_5_26, G_5_27, G_5_28, G_5_29, G_5_30,\n",
    "      G_5_31, G_5_32, G_5_33]\n",
    "G_5_edgeindex = [0, 1, 2, 4, 8, 14, 20, 26, 30, 32, 33]\n",
    "\n",
    "G_set = [G_1_0] + G_2 + G_3 + G_4"
   ]
  },
  {
   "cell_type": "markdown",
   "metadata": {},
   "source": [
    "LOAD DATA"
   ]
  },
  {
   "cell_type": "code",
   "execution_count": 3,
   "metadata": {},
   "outputs": [],
   "source": [
    "# random walk with restart sampling\n",
    "def random_walk_with_restart_sampling(und_graph, sample_percentage, restart_prob, jump_iteration = 100, sd = None):\n",
    "    # set random seed\n",
    "    seed(sd)\n",
    "    \n",
    "    # sample size round down to interger\n",
    "    sample_size = int(nx.number_of_nodes(und_graph) * sample_percentage)\n",
    "    \n",
    "    # set starting node\n",
    "    startnode = rdm.sample(und_graph.nodes(),1)[0]\n",
    "    currentnode = startnode\n",
    "    \n",
    "    # used for jump when no new node visited in certain iteration\n",
    "    restart_iteration = 0 \n",
    "    last_number_of_nodes = 0\n",
    "    \n",
    "    # result node set and total iteration\n",
    "    nodelist = set()\n",
    "    total_iteration = 0\n",
    "    \n",
    "    while len(nodelist) < sample_size:\n",
    "        # add current node\n",
    "        total_iteration += 1\n",
    "        \n",
    "        \n",
    "        nodelist.add(currentnode)\n",
    "        \n",
    "        # restart with certain prob\n",
    "        x = rdm.random()\n",
    "        if x < restart_prob:\n",
    "            currentnode = startnode\n",
    "        else:    \n",
    "            # move a step forward\n",
    "            nextnode = rdm.sample(list(und_graph[currentnode]),1)[0]\n",
    "            currentnode = nextnode\n",
    "        \n",
    "        # find a new startnode if number of nodes in sample does not grow\n",
    "        if restart_iteration < jump_iteration:\n",
    "            restart_iteration += 1\n",
    "        else:\n",
    "            if last_number_of_nodes == len(nodelist):\n",
    "                startnode = rdm.sample(und_graph.nodes(),1)[0]\n",
    "                currentnode = startnode\n",
    "            restart_iteration = 0\n",
    "            last_number_of_nodes = len(nodelist)\n",
    "    return und_graph.subgraph(nodelist) #,total_iteration"
   ]
  },
  {
   "cell_type": "code",
   "execution_count": 4,
   "metadata": {},
   "outputs": [],
   "source": [
    "# pre-processing\n",
    "def load_data_facebook(path):\n",
    "    initial_edges = []\n",
    "    timed_edges = []\n",
    "    edge_index = {}\n",
    "    with open(path) as f:\n",
    "        lines = f.readlines()\n",
    "        for line in lines:\n",
    "            edge = line.strip().split()\n",
    "            #edge = line.strip().split(',')\n",
    "            if edge[2] == '\\\\N':\n",
    "                initial_edges.append([edge[2], edge[0], edge[1]])\n",
    "                edge_index[(edge[0], edge[1])] = 0\n",
    "                edge_index[(edge[1], edge[0])] = 0\n",
    "            else:\n",
    "                timed_edges.append([edge[2], edge[0], edge[1]])\n",
    "                edge_index[(edge[0], edge[1])] = edge[2]\n",
    "                edge_index[(edge[1], edge[0])] = edge[2]\n",
    "                \n",
    "    sorted_edges = initial_edges + sorted(timed_edges)\n",
    "    \n",
    "    G = nx.Graph()\n",
    "    print(nx.number_of_nodes(G), nx.number_of_edges(G))\n",
    "    for e in sorted_edges:\n",
    "        G.add_edge(e[1], e[2])\n",
    "    G_sub = random_walk_with_restart_sampling(G, 0.1, 0.15, sd=2)\n",
    "    print(\"subgraph done\")\n",
    "    print(nx.number_of_nodes(G_sub), nx.number_of_edges(G_sub))\n",
    "    \n",
    "    sub_sorted_edges = []\n",
    "    for e in G_sub.edges():\n",
    "        sub_sorted_edges.append([str(edge_index[e]), e[0], e[1]])\n",
    "\n",
    "    return sorted(sub_sorted_edges)\n",
    "\n",
    "def split_data(sorted_edges, training_precentage):\n",
    "    size = len(sorted_edges)\n",
    "    return sorted_edges[:int(size * training_precentage)], sorted_edges[int(size * training_precentage):]\n",
    "\n",
    "def prepare_graph(train, test):\n",
    "    G_train = nx.Graph()\n",
    "    for e in train:\n",
    "        G_train.add_edge(e[1], e[2])\n",
    "    \n",
    "    G_test = nx.Graph()\n",
    "    for e in test:\n",
    "        if e[1] in G_train.nodes() and e[2] in G_train.nodes():\n",
    "            G_test.add_edge(e[1], e[2])\n",
    "    \n",
    "    return G_train, G_test"
   ]
  },
  {
   "cell_type": "code",
   "execution_count": 5,
   "metadata": {},
   "outputs": [],
   "source": [
    "def load_data_bitcoin(path):\n",
    "    initial_edges = []\n",
    "    timed_edges = []\n",
    "    with open(path) as f:\n",
    "        lines = f.readlines()\n",
    "        for line in lines:\n",
    "            #edge = line.strip().split()\n",
    "            edge = line.strip().split(',')\n",
    "            if edge[2] == '\\\\N':\n",
    "                initial_edges.append([edge[2], edge[0], edge[1]])\n",
    "            else:\n",
    "                timed_edges.append([edge[2], edge[0], edge[1]])\n",
    "                \n",
    "    return initial_edges + sorted(timed_edges)"
   ]
  },
  {
   "cell_type": "code",
   "execution_count": 6,
   "metadata": {},
   "outputs": [],
   "source": [
    "# return neighbors of neighbors of a node\n",
    "def neighbors_neighbor(G, node):\n",
    "    neighbors_neighbor = set()\n",
    "    for n in G[node]:\n",
    "        for nn in G[n]:\n",
    "            neighbors_neighbor.add(nn)\n",
    "    return neighbors_neighbor"
   ]
  },
  {
   "cell_type": "code",
   "execution_count": 7,
   "metadata": {},
   "outputs": [
    {
     "name": "stdout",
     "output_type": "stream",
     "text": [
      "0 0\n",
      "subgraph done\n",
      "6373 74194\n"
     ]
    }
   ],
   "source": [
    "sorted_edges = load_data_facebook(\"dataset/facebook-links.txt.anon\")"
   ]
  },
  {
   "cell_type": "code",
   "execution_count": 8,
   "metadata": {},
   "outputs": [],
   "source": [
    "train, test = split_data(sorted_edges, 0.9)\n",
    "train_train, train_validation = split_data(train, 0.75)\n",
    "G_train, G_test = prepare_graph(train, test)\n",
    "G_train_train, G_train_validation = prepare_graph(train_train, train_validation)"
   ]
  },
  {
   "cell_type": "code",
   "execution_count": 9,
   "metadata": {},
   "outputs": [
    {
     "name": "stdout",
     "output_type": "stream",
     "text": [
      "6185 66774\n"
     ]
    }
   ],
   "source": [
    "print(nx.number_of_nodes(G_train), nx.number_of_edges(G_train))"
   ]
  },
  {
   "cell_type": "code",
   "execution_count": 10,
   "metadata": {},
   "outputs": [
    {
     "name": "stdout",
     "output_type": "stream",
     "text": [
      "5920 50080\n"
     ]
    }
   ],
   "source": [
    "print(nx.number_of_nodes(G_train_train), nx.number_of_edges(G_train_train))"
   ]
  },
  {
   "cell_type": "markdown",
   "metadata": {},
   "source": [
    "Naive Similarity"
   ]
  },
  {
   "cell_type": "code",
   "execution_count": 11,
   "metadata": {},
   "outputs": [],
   "source": [
    "# similarity function\n",
    "# sim(u,v) = α|N(u) ∩ N(v)|/2 + (1-α)∑γ^dist(i,j)/(|N(u) ∩ N(v)|-1)\n",
    "# α in [0,1], γ in (0,1)\n",
    "def naive_decay_similarity(CN_graph):\n",
    "    nodes = nx.number_of_nodes(CN_graph)\n",
    "    sim_score = 0\n",
    "    all_shortest_path_length = dict(nx.all_pairs_shortest_path_length(CN_graph))\n",
    "    if nodes != 1:\n",
    "        for i in all_shortest_path_length.keys():\n",
    "            for j in all_shortest_path_length[i].keys():\n",
    "                if i < j:\n",
    "                    sim_score += (1/all_shortest_path_length[i][j])/(nodes-1)\n",
    "    return sim_score"
   ]
  },
  {
   "cell_type": "markdown",
   "metadata": {},
   "source": [
    "Model with Parameter Learning"
   ]
  },
  {
   "cell_type": "code",
   "execution_count": 12,
   "metadata": {},
   "outputs": [],
   "source": [
    "# similarity function\n",
    "# sim(u,v) = α|N(u) ∩ N(v)|/2 + (1-α)∑γ^dist(i,j)/(|N(u) ∩ N(v)|-1)\n",
    "# α in [0,1], γ in (0,1)\n",
    "def gamma_decay_similarity(CN_graph, alpha, gamma):\n",
    "    nodes = nx.number_of_nodes(CN_graph)\n",
    "    sim_score = nodes * alpha / 2\n",
    "    all_shortest_path_length = dict(nx.all_pairs_shortest_path_length(CN_graph))\n",
    "    if nodes != 1:\n",
    "        for i in all_shortest_path_length.keys():\n",
    "            for j in all_shortest_path_length[i].keys():\n",
    "                if i < j:\n",
    "                    sim_score += (1-alpha) * (gamma ** all_shortest_path_length[i][j])/(nodes-1)\n",
    "    return sim_score"
   ]
  },
  {
   "cell_type": "code",
   "execution_count": 13,
   "metadata": {},
   "outputs": [],
   "source": [
    "def multi_gamma_decay_similarity(CN_graphs, alpha, gamma):\n",
    "    results = []\n",
    "    for g in CN_graphs:\n",
    "        results.append(gamma_decay_similarity(g, alpha, gamma))\n",
    "    return results"
   ]
  },
  {
   "cell_type": "code",
   "execution_count": 14,
   "metadata": {},
   "outputs": [],
   "source": [
    "def learning_scalar(actual, observe):\n",
    "    xiyi = 0\n",
    "    xi_2 = 0\n",
    "    for i in range(len(actual)):\n",
    "        xiyi += actual[i] * observe[i]\n",
    "        xi_2 += actual[i] * actual[i]\n",
    "    return xiyi/xi_2"
   ]
  },
  {
   "cell_type": "code",
   "execution_count": 15,
   "metadata": {},
   "outputs": [],
   "source": [
    "def square_error(actual, observe):\n",
    "    scalar = learning_scalar(actual, observe)\n",
    "    error = 0\n",
    "    for i in range(len(actual)):\n",
    "        error += (actual[i] - observe[i]/scalar) ** 2\n",
    "    return error"
   ]
  },
  {
   "cell_type": "code",
   "execution_count": 16,
   "metadata": {},
   "outputs": [],
   "source": [
    "def grid_search(G_set, actual, alpha_range, gamma_range):\n",
    "    results = []\n",
    "    for alpha in alpha_range:\n",
    "        for gamma in gamma_range:\n",
    "            observe = multi_gamma_decay_similarity(G_set, alpha, gamma)\n",
    "            error = square_error(actual, observe)\n",
    "            results.append((error, alpha, gamma))\n",
    "    return sorted(results)"
   ]
  },
  {
   "cell_type": "markdown",
   "metadata": {},
   "source": [
    "Prepare testing set"
   ]
  },
  {
   "cell_type": "code",
   "execution_count": 18,
   "metadata": {},
   "outputs": [],
   "source": [
    "# generate candidates at random\n",
    "def random_candidates(G_train, G_test, sd = None):\n",
    "    candidates = list(G_test.edges())\n",
    "    size = 2*len(candidates)\n",
    "    seed(sd)\n",
    "    while len(candidates) < size:\n",
    "        n1 = choice(list(G_test.nodes))\n",
    "        n2 = choice(list(G_test.nodes))\n",
    "        if (n1 != n2) and ((n1, n2) not in G_train.edges()) and ((n1, n2) not in G_test.edges()):\n",
    "            candidates.append((n1, n2))\n",
    "    return candidates\n",
    "\n",
    "# generate candidates more than one common neighbors\n",
    "def have_cn_candidates(G_train, G_test, sd = None):\n",
    "    candidates = list(G_test.edges())\n",
    "    size = 2*len(candidates)\n",
    "    seed(sd)\n",
    "    while len(candidates) < size:\n",
    "        n1 = choice(list(G_test.nodes))\n",
    "        nn = neighbors_neighbor(G_train, n1)\n",
    "        n2 = choice(list(nn))\n",
    "        if (n1 != n2) and ((n1, n2) not in G_train.edges()) and ((n1, n2) not in G_test.edges()):\n",
    "            candidates.append((n1, n2))\n",
    "    return candidates\n",
    "\n",
    "# generate candidates more than one common neighbors\n",
    "def have_cn2_candidates(G_train, G_test, sd = None):\n",
    "    candidates = list(G_test.edges())\n",
    "    size = 2*len(candidates)\n",
    "    seed(sd)\n",
    "    while len(candidates) < size:\n",
    "        n1 = choice(list(G_test.nodes))\n",
    "        nn = neighbors_neighbor(G_train, n1)\n",
    "        n2 = choice(list(nn))\n",
    "        if (n1 != n2) and ((n1, n2) not in G_train.edges()) and ((n1, n2) not in G_test.edges()) and (len(list(nx.common_neighbors(G_train, n1, n2)))>1):\n",
    "            candidates.append((n1, n2))\n",
    "    return candidates\n",
    "\n",
    "# generate candidates distances less than 3\n",
    "def less_3_candidates(G_train, G_test, sd = None):\n",
    "    candidates = list(G_test.edges())\n",
    "    size = 2*len(candidates)\n",
    "    seed(sd)\n",
    "    while len(candidates) < size:\n",
    "        n1 = choice(list(G_test.nodes))\n",
    "        currentnode = n1\n",
    "        for i in range(3):\n",
    "            nextnode = sample(list(G_train[currentnode]),1)[0]\n",
    "            currentnode = nextnode\n",
    "        n2 = currentnode\n",
    "        if (n1 != n2) and ((n1, n2) not in G_train.edges()) and ((n1, n2) not in G_test.edges()):\n",
    "            candidates.append((n1, n2))\n",
    "    return candidates"
   ]
  },
  {
   "cell_type": "code",
   "execution_count": 19,
   "metadata": {},
   "outputs": [],
   "source": [
    "candidates = have_cn_candidates(G_train, G_test, sd = 1)\n",
    "#candidates = have_cn2_candidates(G_train, G_test, sd = 1)\n",
    "#candidates = random_candidates(G_train, G_test, sd = 1)\n",
    "#candidates = less_3_candidates(G_train, G_test, sd = 1)"
   ]
  },
  {
   "cell_type": "markdown",
   "metadata": {},
   "source": [
    "Link Prediction"
   ]
  },
  {
   "cell_type": "code",
   "execution_count": 20,
   "metadata": {},
   "outputs": [],
   "source": [
    "# common_neighbor\n",
    "def common_neighbor(G_train, edge_list):\n",
    "    y_score = []\n",
    "    for l in edge_list:\n",
    "        y_score.append(len(list(nx.common_neighbors(G_train, l[0], l[1]))))\n",
    "    return y_score"
   ]
  },
  {
   "cell_type": "code",
   "execution_count": 21,
   "metadata": {},
   "outputs": [],
   "source": [
    "# Adamic Adar\n",
    "def adamic_adar(G_train, edge_list):\n",
    "    y_score = [c for (a,b,c) in list(nx.adamic_adar_index(G_train, ebunch=edge_list))]\n",
    "    return y_score"
   ]
  },
  {
   "cell_type": "code",
   "execution_count": 22,
   "metadata": {},
   "outputs": [],
   "source": [
    "# resource_allocation_index\n",
    "def resource_allocation(G_train, edge_list):\n",
    "    y_score = [c for (a,b,c) in list(nx.resource_allocation_index(G_train, ebunch=edge_list))]\n",
    "    return y_score"
   ]
  },
  {
   "cell_type": "code",
   "execution_count": 23,
   "metadata": {},
   "outputs": [],
   "source": [
    "# jaccard_coefficient\n",
    "def jaccard(G_train, edge_list):\n",
    "    y_score = [c for (a,b,c) in list(nx.jaccard_coefficient(G_train, ebunch=edge_list))]\n",
    "    return y_score"
   ]
  },
  {
   "cell_type": "code",
   "execution_count": 24,
   "metadata": {},
   "outputs": [],
   "source": [
    "# preferential_attachment\n",
    "def preferential_attach(G_train, edge_list):\n",
    "    y_score = [c for (a,b,c) in list(nx.preferential_attachment(G_train, ebunch=edge_list))]\n",
    "    return y_score"
   ]
  },
  {
   "cell_type": "code",
   "execution_count": 25,
   "metadata": {},
   "outputs": [],
   "source": [
    "# Katz\n",
    "def katz_index(G_train, edge_list, beta = 0.0005):\n",
    "    y_score = []\n",
    "    for l in edge_list:\n",
    "        paths = list(nx.all_simple_paths(G_train, l[0], l[1], cutoff = 3))\n",
    "        sc = 0\n",
    "        for p in paths:\n",
    "            sc += beta**(len(p)-1)\n",
    "        y_score.append(sc)\n",
    "    return y_score"
   ]
  },
  {
   "cell_type": "code",
   "execution_count": 26,
   "metadata": {},
   "outputs": [],
   "source": [
    "# Naive CNS\n",
    "def naive_CNS(G_train, edge_list):\n",
    "    y_score = []\n",
    "    for l in edge_list:\n",
    "        cn = list(nx.common_neighbors(G_train, l[0], l[1]))\n",
    "        cn_graph = G_train.subgraph(cn)\n",
    "        y_score.append(naive_decay_similarity(cn_graph))\n",
    "    return y_score"
   ]
  },
  {
   "cell_type": "code",
   "execution_count": 27,
   "metadata": {},
   "outputs": [],
   "source": [
    "# Complete CNS\n",
    "def complete_CNS(G_train, edge_list, alpha, gamma):\n",
    "    y_score = []\n",
    "    for l in edge_list:\n",
    "        cn = list(nx.common_neighbors(G_train, l[0], l[1]))\n",
    "        cn_graph = G_train.subgraph(cn)\n",
    "        y_score.append(gamma_decay_similarity(cn_graph, alpha, gamma))\n",
    "    return y_score"
   ]
  },
  {
   "cell_type": "code",
   "execution_count": 28,
   "metadata": {},
   "outputs": [
    {
     "name": "stdout",
     "output_type": "stream",
     "text": [
      "CN done 0.6188514101789295\n",
      "AA done 0.6333698619010847\n",
      "RA done 0.6106102528104351\n",
      "J done 0.5948302985058883\n",
      "PA done 0.4872418495139098\n",
      "KATZ done 0.618052953690876\n",
      "naive done 0.6958174540270666\n",
      "complete done 0.6948769859184015\n"
     ]
    }
   ],
   "source": [
    "#put it togather\n",
    "y_test = []\n",
    "for l in candidates:\n",
    "    if l in G_test.edges():\n",
    "        y_test.append(1)\n",
    "    else:\n",
    "        y_test.append(0)\n",
    "        \n",
    "cn_score = common_neighbor(G_train, candidates)\n",
    "cn_fpr, cn_tpr, _ = roc_curve(y_test, cn_score)\n",
    "cn_roc_auc = auc(cn_fpr, cn_tpr)\n",
    "print(\"CN done\", cn_roc_auc)\n",
    "\n",
    "aa_score = adamic_adar(G_train, candidates)\n",
    "aa_fpr, aa_tpr, _ = roc_curve(y_test, aa_score)\n",
    "aa_roc_auc = auc(aa_fpr, aa_tpr)\n",
    "print(\"AA done\", aa_roc_auc)\n",
    "\n",
    "ra_score = resource_allocation(G_train, candidates)\n",
    "ra_fpr, ra_tpr, _ = roc_curve(y_test, ra_score)\n",
    "ra_roc_auc = auc(ra_fpr, ra_tpr)\n",
    "print(\"RA done\", ra_roc_auc)\n",
    "\n",
    "j_score = jaccard(G_train, candidates)\n",
    "j_fpr, j_tpr, _ = roc_curve(y_test, j_score)\n",
    "j_roc_auc = auc(j_fpr, j_tpr)\n",
    "print(\"J done\", j_roc_auc)\n",
    "\n",
    "pa_score = preferential_attach(G_train, candidates)\n",
    "pa_fpr, pa_tpr, _ = roc_curve(y_test, pa_score)\n",
    "pa_roc_auc = auc(pa_fpr, pa_tpr)\n",
    "print(\"PA done\", pa_roc_auc)\n",
    "\n",
    "katz_score = katz_index(G_train, candidates)\n",
    "katz_fpr, katz_tpr, _ = roc_curve(y_test, katz_score)\n",
    "katz_roc_auc = auc(katz_fpr, katz_tpr)\n",
    "print(\"KATZ done\", katz_roc_auc)\n",
    "\n",
    "naive_CNS_score = naive_CNS(G_train, candidates)\n",
    "naive_fpr, naive_tpr, _ = roc_curve(y_test, naive_CNS_score)\n",
    "naive_roc_auc = auc(naive_fpr, naive_tpr)\n",
    "print(\"naive done\", naive_roc_auc)\n",
    "\n",
    "complete_CNS_score = complete_CNS(G_train, candidates, 0, 0.2)\n",
    "complete_fpr, complete_tpr, _ = roc_curve(y_test, complete_CNS_score)\n",
    "complete_roc_auc = auc(complete_fpr, complete_tpr)\n",
    "print(\"complete done\", complete_roc_auc)"
   ]
  },
  {
   "cell_type": "code",
   "execution_count": 29,
   "metadata": {},
   "outputs": [
    {
     "data": {
      "image/png": "[encoded data removed]",
      "text/plain": [
       "<Figure size 432x288 with 1 Axes>"
      ]
     },
     "metadata": {
      "needs_background": "light"
     },
     "output_type": "display_data"
    }
   ],
   "source": [
    "plt.figure(1)\n",
    "plt.plot([0, 1], [0, 1], 'k--')\n",
    "plt.plot(cn_fpr, cn_tpr, label='CN')\n",
    "plt.plot(aa_fpr, aa_tpr, label='AA')\n",
    "plt.plot(ra_fpr, ra_tpr, label='RA')\n",
    "plt.plot(j_fpr, j_tpr, label='Jaccard')\n",
    "plt.plot(pa_fpr, pa_tpr, label='PA')\n",
    "plt.plot(katz_fpr, katz_tpr, label='Katz')\n",
    "plt.plot(naive_fpr, naive_tpr, label='Naive')\n",
    "plt.plot(complete_fpr, complete_tpr, label='Complete')\n",
    "\n",
    "plt.xlabel('False positive rate')\n",
    "plt.ylabel('True positive rate')\n",
    "plt.title('ROC curve')\n",
    "plt.legend(loc='best')\n",
    "tikz_save(\"l3.tikz\")"
   ]
  },
  {
   "cell_type": "code",
   "execution_count": null,
   "metadata": {},
   "outputs": [],
   "source": []
  },
  {
   "cell_type": "code",
   "execution_count": null,
   "metadata": {},
   "outputs": [],
   "source": []
  },
  {
   "cell_type": "code",
   "execution_count": null,
   "metadata": {},
   "outputs": [],
   "source": []
  }
 ],
 "metadata": {
  "kernelspec": {
   "display_name": "Python 3",
   "language": "python",
   "name": "python3"
  },
  "language_info": {
   "codemirror_mode": {
    "name": "ipython",
    "version": 3
   },
   "file_extension": ".py",
   "mimetype": "text/x-python",
   "name": "python",
   "nbconvert_exporter": "python",
   "pygments_lexer": "ipython3",
   "version": "3.8.1"
  }
 },
 "nbformat": 4,
 "nbformat_minor": 2
}
